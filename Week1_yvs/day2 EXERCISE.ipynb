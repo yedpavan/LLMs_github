{
 "cells": [
  {
   "cell_type": "markdown",
   "id": "d15d8294-3328-4e07-ad16-8a03e9bbfdb9",
   "metadata": {},
   "source": [
    "# Welcome to your first assignment!\n",
    "\n",
    "Instructions are below. Please give this a try, and look in the solutions folder if you get stuck (or feel free to ask me!)"
   ]
  },
  {
   "cell_type": "markdown",
   "id": "ada885d9-4d42-4d9b-97f0-74fbbbfe93a9",
   "metadata": {},
   "source": [
    "<table style=\"margin: 0; text-align: left;\">\n",
    "    <tr>\n",
    "        <td style=\"width: 150px; height: 150px; vertical-align: middle;\">\n",
    "            <img src=\"../resources.jpg\" width=\"150\" height=\"150\" style=\"display: block;\" />\n",
    "        </td>\n",
    "        <td>\n",
    "            <h2 style=\"color:#f71;\">Just before we get to the assignment --</h2>\n",
    "            <span style=\"color:#f71;\">I thought I'd take a second to point you at this page of useful resources for the course. This includes links to all the slides.<br/>\n",
    "            <a href=\"https://edwarddonner.com/2024/11/13/llm-engineering-resources/\">https://edwarddonner.com/2024/11/13/llm-engineering-resources/</a><br/>\n",
    "            Please keep this bookmarked, and I'll continue to add more useful links there over time.\n",
    "            </span>\n",
    "        </td>\n",
    "    </tr>\n",
    "</table>"
   ]
  },
  {
   "cell_type": "markdown",
   "id": "6e9fa1fc-eac5-4d1d-9be4-541b3f2b3458",
   "metadata": {},
   "source": [
    "# HOMEWORK EXERCISE ASSIGNMENT\n",
    "\n",
    "Upgrade the day 1 project to summarize a webpage to use an Open Source model running locally via Ollama rather than OpenAI\n",
    "\n",
    "You'll be able to use this technique for all subsequent projects if you'd prefer not to use paid APIs.\n",
    "\n",
    "**Benefits:**\n",
    "1. No API charges - open-source\n",
    "2. Data doesn't leave your box\n",
    "\n",
    "**Disadvantages:**\n",
    "1. Significantly less power than Frontier Model\n",
    "\n",
    "## Recap on installation of Ollama\n",
    "\n",
    "Simply visit [ollama.com](https://ollama.com) and install!\n",
    "\n",
    "Once complete, the ollama server should already be running locally.  \n",
    "If you visit:  \n",
    "[http://localhost:11434/](http://localhost:11434/)\n",
    "\n",
    "You should see the message `Ollama is running`.  \n",
    "\n",
    "If not, bring up a new Terminal (Mac) or Powershell (Windows) and enter `ollama serve`  \n",
    "And in another Terminal (Mac) or Powershell (Windows), enter `ollama pull llama3.2`  \n",
    "Then try [http://localhost:11434/](http://localhost:11434/) again.\n",
    "\n",
    "If Ollama is slow on your machine, try using `llama3.2:1b` as an alternative. Run `ollama pull llama3.2:1b` from a Terminal or Powershell, and change the code below from `MODEL = \"llama3.2\"` to `MODEL = \"llama3.2:1b\"`"
   ]
  },
  {
   "cell_type": "code",
   "execution_count": 1,
   "id": "4e2a9393-7767-488e-a8bf-27c12dca35bd",
   "metadata": {},
   "outputs": [],
   "source": [
    "# imports\n",
    "\n",
    "import requests\n",
    "from bs4 import BeautifulSoup\n",
    "from IPython.display import Markdown, display"
   ]
  },
  {
   "cell_type": "code",
   "execution_count": 2,
   "id": "29ddd15d-a3c5-4f4e-a678-873f56162724",
   "metadata": {},
   "outputs": [],
   "source": [
    "# Constants\n",
    "\n",
    "OLLAMA_API = \"http://localhost:11434/api/chat\"\n",
    "HEADERS = {\"Content-Type\": \"application/json\"}\n",
    "MODEL = \"llama3.2\""
   ]
  },
  {
   "cell_type": "code",
   "execution_count": 3,
   "id": "dac0a679-599c-441f-9bf2-ddc73d35b940",
   "metadata": {},
   "outputs": [],
   "source": [
    "# Create a messages list using the same format that we used for OpenAI\n",
    "\n",
    "messages = [\n",
    "    {\"role\": \"user\", \"content\": \"Describe some of the business applications of Generative AI\"}\n",
    "]"
   ]
  },
  {
   "cell_type": "code",
   "execution_count": 4,
   "id": "7bb9c624-14f0-4945-a719-8ddb64f66f47",
   "metadata": {},
   "outputs": [],
   "source": [
    "payload = {\n",
    "        \"model\": MODEL,\n",
    "        \"messages\": messages,\n",
    "        \"stream\": False\n",
    "    }"
   ]
  },
  {
   "cell_type": "code",
   "execution_count": 5,
   "id": "479ff514-e8bd-4985-a572-2ea28bb4fa40",
   "metadata": {},
   "outputs": [
    {
     "name": "stdout",
     "output_type": "stream",
     "text": [
      "\u001b[?2026h\u001b[?25l\u001b[1Gpulling manifest ⠋ \u001b[K\u001b[?25h\u001b[?2026l\u001b[?2026h\u001b[?25l\u001b[1Gpulling manifest ⠙ \u001b[K\u001b[?25h\u001b[?2026l\u001b[?2026h\u001b[?25l\u001b[1Gpulling manifest ⠹ \u001b[K\u001b[?25h\u001b[?2026l\u001b[?2026h\u001b[?25l\u001b[1Gpulling manifest ⠸ \u001b[K\u001b[?25h\u001b[?2026l\u001b[?2026h\u001b[?25l\u001b[1Gpulling manifest \u001b[K\n",
      "pulling dde5aa3fc5ff... 100% ▕████████████████▏ 2.0 GB                         \u001b[K\n",
      "pulling 966de95ca8a6... 100% ▕████████████████▏ 1.4 KB                         \u001b[K\n",
      "pulling fcc5a6bec9da... 100% ▕████████████████▏ 7.7 KB                         \u001b[K\n",
      "pulling a70ff7e570d9... 100% ▕████████████████▏ 6.0 KB                         \u001b[K\n",
      "pulling 56bb8bd477a5... 100% ▕████████████████▏   96 B                         \u001b[K\n",
      "pulling 34bb5ab01051... 100% ▕████████████████▏  561 B                         \u001b[K\n",
      "verifying sha256 digest \u001b[K\n",
      "writing manifest \u001b[K\n",
      "success \u001b[K\u001b[?25h\u001b[?2026l\n"
     ]
    }
   ],
   "source": [
    "# Let's just make sure the model is loaded\n",
    "\n",
    "!ollama pull llama3.2"
   ]
  },
  {
   "cell_type": "code",
   "execution_count": 6,
   "id": "42b9f644-522d-4e05-a691-56e7658c0ea9",
   "metadata": {},
   "outputs": [
    {
     "name": "stdout",
     "output_type": "stream",
     "text": [
      "Generative AI has numerous business applications across various industries, including:\n",
      "\n",
      "1. **Content Creation**: AI can generate high-quality content such as articles, social media posts, and product descriptions, reducing the need for human writers and increasing efficiency.\n",
      "2. **Marketing Automation**: Generative AI can create personalized marketing campaigns, personalize customer communications, and generate targeted ads.\n",
      "3. **Customer Service Chatbots**: AI-powered chatbots can respond to customer inquiries, provide support, and even resolve simple issues on their own.\n",
      "4. **Data Analysis and Visualization**: Generative AI can help analyze large datasets, identify patterns, and visualize insights, enabling data-driven decision-making.\n",
      "5. **Product Design and Development**: AI can generate designs for products, such as furniture, clothing, and electronics, reducing the time and cost associated with traditional design processes.\n",
      "6. **Image and Video Generation**: Generative AI can create high-quality images and videos for various applications, including advertising, entertainment, and education.\n",
      "7. **Music and Audio Generation**: AI can generate music, sound effects, and even entire audio tracks, opening up new creative possibilities for music production and post-production.\n",
      "8. **Language Translation**: Generative AI can translate languages in real-time, enabling faster communication across linguistic boundaries.\n",
      "9. **Predictive Maintenance**: AI-powered predictive maintenance can analyze sensor data to predict equipment failures, reducing downtime and increasing overall efficiency.\n",
      "10. **Financial Analysis and Forecasting**: Generative AI can analyze financial data, identify trends, and generate forecasts, helping businesses make more informed investment decisions.\n",
      "11. **Cybersecurity Threat Detection**: AI-powered systems can detect and respond to cyber threats in real-time, improving the overall security posture of an organization.\n",
      "12. **Virtual Reality (VR) and Augmented Reality (AR)**: Generative AI can create realistic VR and AR experiences, enabling new forms of entertainment, education, and training.\n",
      "13. **Supply Chain Optimization**: AI-powered systems can optimize supply chain operations by predicting demand, managing inventory, and identifying bottlenecks.\n",
      "14. **HR and Recruitment**: Generative AI can help with tasks such as resume screening, candidate matching, and even generating job descriptions.\n",
      "\n",
      "These are just a few examples of the many business applications of Generative AI. As the technology continues to evolve, we can expect to see even more innovative uses across various industries.\n"
     ]
    }
   ],
   "source": [
    "# If this doesn't work for any reason, try the 2 versions in the following cells\n",
    "# And double check the instructions in the 'Recap on installation of Ollama' at the top of this lab\n",
    "# And if none of that works - contact me!\n",
    "\n",
    "response = requests.post(OLLAMA_API, json=payload, headers=HEADERS)\n",
    "print(response.json()['message']['content'])"
   ]
  },
  {
   "cell_type": "markdown",
   "id": "6a021f13-d6a1-4b96-8e18-4eae49d876fe",
   "metadata": {},
   "source": [
    "# Introducing the ollama package\n",
    "\n",
    "And now we'll do the same thing, but using the elegant ollama python package instead of a direct HTTP call.\n",
    "\n",
    "Under the hood, it's making the same call as above to the ollama server running at localhost:11434"
   ]
  },
  {
   "cell_type": "code",
   "execution_count": 7,
   "id": "7745b9c4-57dc-4867-9180-61fa5db55eb8",
   "metadata": {},
   "outputs": [
    {
     "name": "stdout",
     "output_type": "stream",
     "text": [
      "Generative AI has numerous business applications across various industries, including:\n",
      "\n",
      "1. **Content Creation**: Generative AI can be used to generate high-quality content such as blog posts, social media posts, product descriptions, and more.\n",
      "2. **Marketing Automation**: Generative AI can help automate marketing tasks, such as generating email campaigns, ad copy, and personalized recommendations.\n",
      "3. **Sales and Customer Service**: Generative AI can be used to generate sales pitches, respond to customer inquiries, and provide personalized support.\n",
      "4. **Product Design and Development**: Generative AI can aid in product design by generating 2D and 3D designs, prototyping, and testing.\n",
      "5. **Data Analysis and Visualization**: Generative AI can help analyze large datasets, identify patterns, and generate visualizations to present insights to stakeholders.\n",
      "6. **Risk Assessment and Compliance**: Generative AI can be used to assess risk, detect anomalies, and provide compliance recommendations for financial institutions, healthcare organizations, and other industries.\n",
      "7. **Digital Twinning**: Generative AI can create digital replicas of physical assets, such as buildings, machines, and equipment, to simulate performance, predict maintenance needs, and optimize operations.\n",
      "8. **Product Recommendation Systems**: Generative AI can generate personalized product recommendations for e-commerce websites, helping customers discover new products and increasing sales.\n",
      "9. **Chatbots and Virtual Assistants**: Generative AI can power chatbots and virtual assistants that provide 24/7 customer support, answer frequently asked questions, and route complex issues to human representatives.\n",
      "10. **Intelligent Automation**: Generative AI can automate repetitive tasks, such as data entry, bookkeeping, and document processing, freeing up employees to focus on higher-value tasks.\n",
      "\n",
      "Some specific business applications of Generative AI include:\n",
      "\n",
      "* **Automated email writing tools**: Such as Grammarly's AI-powered writing assistant\n",
      "* **Product design software**: Like Autodesk's Dreambook and Sketchfab's 3D modeling tools\n",
      "* **Marketing automation platforms**: Such as HubSpot's AI-powered marketing platform\n",
      "* **Chatbot platforms**: Like ManyChat and Dialogflow\n",
      "* **Data analysis tools**: Such as Tableau's AI-powered data visualization platform\n",
      "\n",
      "These are just a few examples of the many business applications of Generative AI. As the technology continues to evolve, we can expect to see even more innovative uses across various industries.\n"
     ]
    }
   ],
   "source": [
    "import ollama\n",
    "\n",
    "response = ollama.chat(model=MODEL, messages=messages)\n",
    "print(response['message']['content'])"
   ]
  },
  {
   "cell_type": "markdown",
   "id": "a4704e10-f5fb-4c15-a935-f046c06fb13d",
   "metadata": {},
   "source": [
    "## Alternative approach - using OpenAI python library to connect to Ollama"
   ]
  },
  {
   "cell_type": "code",
   "execution_count": 8,
   "id": "23057e00-b6fc-4678-93a9-6b31cb704bff",
   "metadata": {},
   "outputs": [
    {
     "name": "stdout",
     "output_type": "stream",
     "text": [
      "Generative AI has numerous business applications across various industries, including:\n",
      "\n",
      "1. **Content Creation**: Generative AI can produce high-quality content such as text, images, videos, and music in a matter of seconds. This technology can be used to boost content creation efficiency, automate repetitive tasks, and generate engaging content for customers.\n",
      "2. **Product Design and Development**: Generative AI can aid in the design of new products by generating 3D models, prototypes, and even entire product lines. This technology can improve product development speed, reduce costs, and increase innovation.\n",
      "3. **Marketing Automation**: Generative AI can help create personalized marketing campaigns by analyzing customer behavior and preferences. This technology can generate dynamic content, personalize emails, and optimize ad targeting.\n",
      "4. **Customer Service Chatbots**: Generative AI can power conversational chatbots that understand and respond to customer queries in natural language. This technology can improve customer service efficiency, reduce response times, and enhance overall experience.\n",
      "5. **Image Editing and Manipulation**: Generative AI can revolutionize image editing by allowing users to manipulate and modify images with ease. This technology can be used for various applications, including graphic design, photography, and advertising.\n",
      "6. **Video Production**: Generative AI can automate video production processes, creating engaging videos, animations, and even entire film scripts. This technology can improve productivity, reduce costs, and enhance creative output.\n",
      "7. **Audio Composition**: Generative AI can generate high-quality music, audio loops, and sound effects in various genres. This technology can be used by musicians, podcasters, and content creators to boost creativity and efficiency.\n",
      "8. **Data Analysis and Visualization**: Generative AI can help analyze and visualize large datasets, offering new insights and patterns that were previously unnoticed. This technology can aid data scientists and analysts in identifying trends, predicting outcomes, and making informed decisions.\n",
      "9. **Supply Chain Optimization**: Generative AI can optimize supply chain operations by analyzing demand patterns, predicting inventory levels, and suggesting logistics improvements. This technology can reduce costs, improve delivery times, and enhance overall efficiency.\n",
      "10. **R&D and Innovation**: Generative AI can aid research and development efforts in various fields, such as scientific simulations, materials science, and drug discovery. This technology can help accelerate innovation, identify new insights, and inform R&D strategies.\n",
      "\n",
      "Some companies already leveraging Generative AI include:\n",
      "\n",
      "* Autodesk (product design and engineering)\n",
      "* IBM (customer service chatbots)\n",
      "* Coca-Cola (marketing automation and creative content generation)\n",
      "* Google (image editing and manipulation)\n",
      "* Warner Music Group (audio composition)\n",
      "\n",
      "As the technology continues to evolve, we can expect more innovative applications across various industries.\n"
     ]
    }
   ],
   "source": [
    "# There's actually an alternative approach that some people might prefer\n",
    "# You can use the OpenAI client python library to call Ollama:\n",
    "\n",
    "from openai import OpenAI\n",
    "ollama_via_openai = OpenAI(base_url='http://localhost:11434/v1', api_key='ollama')\n",
    "\n",
    "response = ollama_via_openai.chat.completions.create(\n",
    "    model=MODEL,\n",
    "    messages=messages\n",
    ")\n",
    "\n",
    "print(response.choices[0].message.content)"
   ]
  },
  {
   "cell_type": "markdown",
   "id": "bc7d1de3-e2ac-46ff-a302-3b4ba38c4c90",
   "metadata": {},
   "source": [
    "## Also trying the amazing reasoning model DeepSeek\n",
    "\n",
    "Here we use the version of DeepSeek-reasoner that's been distilled to 1.5B.  \n",
    "This is actually a 1.5B variant of Qwen that has been fine-tuned using synethic data generated by Deepseek R1.\n",
    "\n",
    "Other sizes of DeepSeek are [here](https://ollama.com/library/deepseek-r1) all the way up to the full 671B parameter version, which would use up 404GB of your drive and is far too large for most!"
   ]
  },
  {
   "cell_type": "code",
   "execution_count": null,
   "id": "cf9eb44e-fe5b-47aa-b719-0bb63669ab3d",
   "metadata": {},
   "outputs": [],
   "source": [
    "!ollama pull deepseek-r1:1.5b"
   ]
  },
  {
   "cell_type": "code",
   "execution_count": null,
   "id": "1d3d554b-e00d-4c08-9300-45e073950a76",
   "metadata": {},
   "outputs": [],
   "source": [
    "# This may take a few minutes to run! You should then see a fascinating \"thinking\" trace inside <think> tags, followed by some decent definitions\n",
    "\n",
    "response = ollama_via_openai.chat.completions.create(\n",
    "    model=\"deepseek-r1:1.5b\",\n",
    "    messages=[{\"role\": \"user\", \"content\": \"Please give definitions of some core concepts behind LLMs: a neural network, attention and the transformer\"}]\n",
    ")\n",
    "\n",
    "print(response.choices[0].message.content)"
   ]
  },
  {
   "cell_type": "markdown",
   "id": "1622d9bb-5c68-4d4e-9ca4-b492c751f898",
   "metadata": {},
   "source": [
    "# NOW the exercise for you\n",
    "\n",
    "Take the code from day1 and incorporate it here, to build a website summarizer that uses Llama 3.2 running locally instead of OpenAI; use either of the above approaches."
   ]
  },
  {
   "cell_type": "code",
   "execution_count": 9,
   "id": "6de38216-6d1c-48c4-877b-86d403f4e0f8",
   "metadata": {},
   "outputs": [],
   "source": [
    "import os\n",
    "import requests\n",
    "from dotenv import load_dotenv\n",
    "from bs4 import BeautifulSoup\n",
    "from IPython.display import Markdown, display\n"
   ]
  },
  {
   "cell_type": "code",
   "execution_count": 10,
   "id": "51cffa27-6540-490b-9e3c-1065a00e65ad",
   "metadata": {},
   "outputs": [],
   "source": [
    "# A class to represent a Webpage\n",
    "# If you're not familiar with Classes, check out the \"Intermediate Python\" notebook\n",
    "\n",
    "# Some websites need you to use proper headers when fetching them:\n",
    "headers = {\n",
    " \"User-Agent\": \"Mozilla/5.0 (Windows NT 10.0; Win64; x64) AppleWebKit/537.36 (KHTML, like Gecko) Chrome/117.0.0.0 Safari/537.36\"\n",
    "}\n",
    "\n",
    "class Website:\n",
    "\n",
    "    def __init__(self, url):\n",
    "        \"\"\"\n",
    "        Create this Website object from the given url using the BeautifulSoup library\n",
    "        \"\"\"\n",
    "        self.url = url\n",
    "        response = requests.get(url, headers=headers)\n",
    "        soup = BeautifulSoup(response.content, 'html.parser')\n",
    "        self.title = soup.title.string if soup.title else \"No title found\"\n",
    "        for irrelevant in soup.body([\"script\", \"style\", \"img\", \"input\"]):\n",
    "            irrelevant.decompose()\n",
    "        self.text = soup.body.get_text(separator=\"\\n\", strip=True)"
   ]
  },
  {
   "cell_type": "code",
   "execution_count": 17,
   "id": "c0478b27-591b-474e-9195-1dbfaeb2fb05",
   "metadata": {},
   "outputs": [],
   "source": [
    "ed = Website(\"https://anthropic.com\")\n"
   ]
  },
  {
   "cell_type": "code",
   "execution_count": 22,
   "id": "157ac917-0f39-4a49-b6ab-af750e804af3",
   "metadata": {},
   "outputs": [
    {
     "data": {
      "text/plain": [
       "\"Skip to main content\\nSkip to footer\\nClaude\\nAPI\\nResearch\\nCommitments\\nLearn\\nNews\\nTry Claude\\nAI\\nresearch\\nand\\nproducts\\nthat put safety at the frontier\\nClaude.ai\\nMeet Claude 3.7 Sonnet\\nClaude 3.7 Sonnet, our most intelligent AI model, is now available.\\nTalk to Claude\\nAPI\\nBuild with Claude\\nCreate AI-powered applications and custom experiences using Claude.\\nLearn more\\nClaude 3.7 Sonnet and Claude Code\\nIntroducing Claude 3.7 Sonnet, our most intelligent model yet and the first hybrid reasoning model. We’re also launching Claude Code, an agentic tool for coding.\\nRead the announcement\\nModel details\\nClaude 3.7 Sonnet\\nResearch insights\\nClaude's extended thinking\\nOur Work\\nProduct\\nClaude for Enterprise\\nSep 4, 2024\\nAlignment\\n·\\nResearch\\nConstitutional AI: Harmlessness from AI Feedback\\nDec 15, 2022\\nAnnouncements\\nCore Views on AI Safety: When, Why, What, and How\\nMar 8, 2023\\nWork with Anthropic\\nAnthropic is an AI safety and research company based in San Francisco. Our interdisciplinary team has experience across ML, physics, policy, and product. Together, we generate research and create reliable, beneficial AI systems.\\nSee open roles\\nProduct\\nClaude overview\\nClaude team plan\\nClaude enterprise plan\\nDownload Claude apps\\nClaude.ai pricing plans\\nClaude.ai login\\nAPI Platform\\nAPI overview\\nDeveloper docs\\nPricing\\nConsole login\\nResearch\\nResearch overview\\nEconomic Index\\nClaude models\\nClaude 3.7 Sonnet\\nClaude 3.5 Haiku\\nClaude 3 Opus\\nCommitments\\nTransparency\\nResponsible scaling policy\\nSecurity and compliance\\nSolutions\\nCoding\\nLearning resources\\nNews\\nCustomer stories\\nEngineering at Anthropic\\nCompany\\nAbout us\\nCareers\\nHelp and security\\nStatus\\nAvailability\\nSupport center\\nTerms and policies\\nPrivacy choices\\nPrivacy policy\\nResponsible disclosure policy\\nTerms of service - consumer\\nTerms of service - commercial\\nUsage policy\\n© 2025 Anthropic PBC\""
      ]
     },
     "execution_count": 22,
     "metadata": {},
     "output_type": "execute_result"
    }
   ],
   "source": [
    "ed.text"
   ]
  },
  {
   "cell_type": "code",
   "execution_count": 23,
   "id": "d29bf47e-866a-4702-b794-995fa7353358",
   "metadata": {},
   "outputs": [
    {
     "name": "stdout",
     "output_type": "stream",
     "text": [
      "Summary:\n",
      " The text appears to be the homepage of a company called Anthropic, which focuses on AI safety and research. Here's a summary:\n",
      "\n",
      "* Anthropic has developed an intelligent AI model called Claude 3.7 Sonnet, which is their most advanced model yet.\n",
      "* The model is a hybrid reasoning model and marks a significant improvement over previous versions.\n",
      "* The company also launched Claude Code, an agentic tool for coding that enables users to create custom experiences with AI.\n",
      "* Anthropic emphasizes its commitment to AI safety and has published research on the topic, including work on Constitutional AI and alignment.\n",
      "* The company provides various resources and tools for developers, researchers, and businesses interested in working with AI, including API platforms, models, and pricing plans.\n",
      "* Anthropic also offers enterprise solutions, such as a team plan and download options for Claude apps.\n",
      "\n",
      "Overall, Anthropic appears to be a leading company in the field of AI safety and research, with a focus on developing intelligent AI models that can be used responsibly and beneficially.\n"
     ]
    }
   ],
   "source": [
    "def summarize_text(text, MODEL=\"llama3.2\"):\n",
    "    prompt = f\"Summarize the following text:\\n\\n {text}\"\n",
    "    response = ollama.chat(model=MODEL, messages=[{\"role\": \"user\", \"content\": prompt}])\n",
    "    return response['message']['content']\n",
    "    #print(response['message']['content'])\n",
    "if __name__== \"__main__\":\n",
    "    text_to_summarize = ed.text\n",
    "    summary = summarize_text(text_to_summarize)\n",
    "    print(\"Summary:\\n\", summary)\n"
   ]
  },
  {
   "cell_type": "code",
   "execution_count": null,
   "id": "9369b506-ef2b-4631-8644-88e0fa86454b",
   "metadata": {},
   "outputs": [],
   "source": []
  }
 ],
 "metadata": {
  "kernelspec": {
   "display_name": "Python 3 (ipykernel)",
   "language": "python",
   "name": "python3"
  },
  "language_info": {
   "codemirror_mode": {
    "name": "ipython",
    "version": 3
   },
   "file_extension": ".py",
   "mimetype": "text/x-python",
   "name": "python",
   "nbconvert_exporter": "python",
   "pygments_lexer": "ipython3",
   "version": "3.11.11"
  }
 },
 "nbformat": 4,
 "nbformat_minor": 5
}
