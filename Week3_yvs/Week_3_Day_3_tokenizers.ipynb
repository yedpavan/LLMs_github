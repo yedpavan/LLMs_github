{
  "nbformat": 4,
  "nbformat_minor": 0,
  "metadata": {
    "colab": {
      "provenance": [],
      "gpuType": "T4"
    },
    "kernelspec": {
      "name": "python3",
      "display_name": "Python 3"
    },
    "language_info": {
      "name": "python"
    },
    "accelerator": "GPU",
    "widgets": {
      "application/vnd.jupyter.widget-state+json": {
        "d70bf1af23b142799c6a7b20b0f57f91": {
          "model_module": "@jupyter-widgets/controls",
          "model_name": "HBoxModel",
          "model_module_version": "1.5.0",
          "state": {
            "_dom_classes": [],
            "_model_module": "@jupyter-widgets/controls",
            "_model_module_version": "1.5.0",
            "_model_name": "HBoxModel",
            "_view_count": null,
            "_view_module": "@jupyter-widgets/controls",
            "_view_module_version": "1.5.0",
            "_view_name": "HBoxView",
            "box_style": "",
            "children": [
              "IPY_MODEL_dfb9435c450b49f0bc79f07a040a3562",
              "IPY_MODEL_76ca4aef6f524ba781e4bfb2b38b29bc",
              "IPY_MODEL_230eabae674b4f859c3c4508e2c17a10"
            ],
            "layout": "IPY_MODEL_c0b37002b7104631980e21c08395edd8"
          }
        },
        "dfb9435c450b49f0bc79f07a040a3562": {
          "model_module": "@jupyter-widgets/controls",
          "model_name": "HTMLModel",
          "model_module_version": "1.5.0",
          "state": {
            "_dom_classes": [],
            "_model_module": "@jupyter-widgets/controls",
            "_model_module_version": "1.5.0",
            "_model_name": "HTMLModel",
            "_view_count": null,
            "_view_module": "@jupyter-widgets/controls",
            "_view_module_version": "1.5.0",
            "_view_name": "HTMLView",
            "description": "",
            "description_tooltip": null,
            "layout": "IPY_MODEL_f52e60d6722d4593995929b798ced1b7",
            "placeholder": "​",
            "style": "IPY_MODEL_945c0eeeeee9460fa104fbfb5e4f8840",
            "value": "tokenizer_config.json: 100%"
          }
        },
        "76ca4aef6f524ba781e4bfb2b38b29bc": {
          "model_module": "@jupyter-widgets/controls",
          "model_name": "FloatProgressModel",
          "model_module_version": "1.5.0",
          "state": {
            "_dom_classes": [],
            "_model_module": "@jupyter-widgets/controls",
            "_model_module_version": "1.5.0",
            "_model_name": "FloatProgressModel",
            "_view_count": null,
            "_view_module": "@jupyter-widgets/controls",
            "_view_module_version": "1.5.0",
            "_view_name": "ProgressView",
            "bar_style": "success",
            "description": "",
            "description_tooltip": null,
            "layout": "IPY_MODEL_ee23c290e7484feaa3ece1ede358e647",
            "max": 54528,
            "min": 0,
            "orientation": "horizontal",
            "style": "IPY_MODEL_ff4dc8dd347c4a53b8456a76b1963f57",
            "value": 54528
          }
        },
        "230eabae674b4f859c3c4508e2c17a10": {
          "model_module": "@jupyter-widgets/controls",
          "model_name": "HTMLModel",
          "model_module_version": "1.5.0",
          "state": {
            "_dom_classes": [],
            "_model_module": "@jupyter-widgets/controls",
            "_model_module_version": "1.5.0",
            "_model_name": "HTMLModel",
            "_view_count": null,
            "_view_module": "@jupyter-widgets/controls",
            "_view_module_version": "1.5.0",
            "_view_name": "HTMLView",
            "description": "",
            "description_tooltip": null,
            "layout": "IPY_MODEL_38ee74674ffa4d64bb09d6cde72e9fe6",
            "placeholder": "​",
            "style": "IPY_MODEL_1a9b4957fc19459db5db67f5e5a26c38",
            "value": " 54.5k/54.5k [00:00&lt;00:00, 5.17MB/s]"
          }
        },
        "c0b37002b7104631980e21c08395edd8": {
          "model_module": "@jupyter-widgets/base",
          "model_name": "LayoutModel",
          "model_module_version": "1.2.0",
          "state": {
            "_model_module": "@jupyter-widgets/base",
            "_model_module_version": "1.2.0",
            "_model_name": "LayoutModel",
            "_view_count": null,
            "_view_module": "@jupyter-widgets/base",
            "_view_module_version": "1.2.0",
            "_view_name": "LayoutView",
            "align_content": null,
            "align_items": null,
            "align_self": null,
            "border": null,
            "bottom": null,
            "display": null,
            "flex": null,
            "flex_flow": null,
            "grid_area": null,
            "grid_auto_columns": null,
            "grid_auto_flow": null,
            "grid_auto_rows": null,
            "grid_column": null,
            "grid_gap": null,
            "grid_row": null,
            "grid_template_areas": null,
            "grid_template_columns": null,
            "grid_template_rows": null,
            "height": null,
            "justify_content": null,
            "justify_items": null,
            "left": null,
            "margin": null,
            "max_height": null,
            "max_width": null,
            "min_height": null,
            "min_width": null,
            "object_fit": null,
            "object_position": null,
            "order": null,
            "overflow": null,
            "overflow_x": null,
            "overflow_y": null,
            "padding": null,
            "right": null,
            "top": null,
            "visibility": null,
            "width": null
          }
        },
        "f52e60d6722d4593995929b798ced1b7": {
          "model_module": "@jupyter-widgets/base",
          "model_name": "LayoutModel",
          "model_module_version": "1.2.0",
          "state": {
            "_model_module": "@jupyter-widgets/base",
            "_model_module_version": "1.2.0",
            "_model_name": "LayoutModel",
            "_view_count": null,
            "_view_module": "@jupyter-widgets/base",
            "_view_module_version": "1.2.0",
            "_view_name": "LayoutView",
            "align_content": null,
            "align_items": null,
            "align_self": null,
            "border": null,
            "bottom": null,
            "display": null,
            "flex": null,
            "flex_flow": null,
            "grid_area": null,
            "grid_auto_columns": null,
            "grid_auto_flow": null,
            "grid_auto_rows": null,
            "grid_column": null,
            "grid_gap": null,
            "grid_row": null,
            "grid_template_areas": null,
            "grid_template_columns": null,
            "grid_template_rows": null,
            "height": null,
            "justify_content": null,
            "justify_items": null,
            "left": null,
            "margin": null,
            "max_height": null,
            "max_width": null,
            "min_height": null,
            "min_width": null,
            "object_fit": null,
            "object_position": null,
            "order": null,
            "overflow": null,
            "overflow_x": null,
            "overflow_y": null,
            "padding": null,
            "right": null,
            "top": null,
            "visibility": null,
            "width": null
          }
        },
        "945c0eeeeee9460fa104fbfb5e4f8840": {
          "model_module": "@jupyter-widgets/controls",
          "model_name": "DescriptionStyleModel",
          "model_module_version": "1.5.0",
          "state": {
            "_model_module": "@jupyter-widgets/controls",
            "_model_module_version": "1.5.0",
            "_model_name": "DescriptionStyleModel",
            "_view_count": null,
            "_view_module": "@jupyter-widgets/base",
            "_view_module_version": "1.2.0",
            "_view_name": "StyleView",
            "description_width": ""
          }
        },
        "ee23c290e7484feaa3ece1ede358e647": {
          "model_module": "@jupyter-widgets/base",
          "model_name": "LayoutModel",
          "model_module_version": "1.2.0",
          "state": {
            "_model_module": "@jupyter-widgets/base",
            "_model_module_version": "1.2.0",
            "_model_name": "LayoutModel",
            "_view_count": null,
            "_view_module": "@jupyter-widgets/base",
            "_view_module_version": "1.2.0",
            "_view_name": "LayoutView",
            "align_content": null,
            "align_items": null,
            "align_self": null,
            "border": null,
            "bottom": null,
            "display": null,
            "flex": null,
            "flex_flow": null,
            "grid_area": null,
            "grid_auto_columns": null,
            "grid_auto_flow": null,
            "grid_auto_rows": null,
            "grid_column": null,
            "grid_gap": null,
            "grid_row": null,
            "grid_template_areas": null,
            "grid_template_columns": null,
            "grid_template_rows": null,
            "height": null,
            "justify_content": null,
            "justify_items": null,
            "left": null,
            "margin": null,
            "max_height": null,
            "max_width": null,
            "min_height": null,
            "min_width": null,
            "object_fit": null,
            "object_position": null,
            "order": null,
            "overflow": null,
            "overflow_x": null,
            "overflow_y": null,
            "padding": null,
            "right": null,
            "top": null,
            "visibility": null,
            "width": null
          }
        },
        "ff4dc8dd347c4a53b8456a76b1963f57": {
          "model_module": "@jupyter-widgets/controls",
          "model_name": "ProgressStyleModel",
          "model_module_version": "1.5.0",
          "state": {
            "_model_module": "@jupyter-widgets/controls",
            "_model_module_version": "1.5.0",
            "_model_name": "ProgressStyleModel",
            "_view_count": null,
            "_view_module": "@jupyter-widgets/base",
            "_view_module_version": "1.2.0",
            "_view_name": "StyleView",
            "bar_color": null,
            "description_width": ""
          }
        },
        "38ee74674ffa4d64bb09d6cde72e9fe6": {
          "model_module": "@jupyter-widgets/base",
          "model_name": "LayoutModel",
          "model_module_version": "1.2.0",
          "state": {
            "_model_module": "@jupyter-widgets/base",
            "_model_module_version": "1.2.0",
            "_model_name": "LayoutModel",
            "_view_count": null,
            "_view_module": "@jupyter-widgets/base",
            "_view_module_version": "1.2.0",
            "_view_name": "LayoutView",
            "align_content": null,
            "align_items": null,
            "align_self": null,
            "border": null,
            "bottom": null,
            "display": null,
            "flex": null,
            "flex_flow": null,
            "grid_area": null,
            "grid_auto_columns": null,
            "grid_auto_flow": null,
            "grid_auto_rows": null,
            "grid_column": null,
            "grid_gap": null,
            "grid_row": null,
            "grid_template_areas": null,
            "grid_template_columns": null,
            "grid_template_rows": null,
            "height": null,
            "justify_content": null,
            "justify_items": null,
            "left": null,
            "margin": null,
            "max_height": null,
            "max_width": null,
            "min_height": null,
            "min_width": null,
            "object_fit": null,
            "object_position": null,
            "order": null,
            "overflow": null,
            "overflow_x": null,
            "overflow_y": null,
            "padding": null,
            "right": null,
            "top": null,
            "visibility": null,
            "width": null
          }
        },
        "1a9b4957fc19459db5db67f5e5a26c38": {
          "model_module": "@jupyter-widgets/controls",
          "model_name": "DescriptionStyleModel",
          "model_module_version": "1.5.0",
          "state": {
            "_model_module": "@jupyter-widgets/controls",
            "_model_module_version": "1.5.0",
            "_model_name": "DescriptionStyleModel",
            "_view_count": null,
            "_view_module": "@jupyter-widgets/base",
            "_view_module_version": "1.2.0",
            "_view_name": "StyleView",
            "description_width": ""
          }
        },
        "d12295740a484155a20426dcb860ff8f": {
          "model_module": "@jupyter-widgets/controls",
          "model_name": "HBoxModel",
          "model_module_version": "1.5.0",
          "state": {
            "_dom_classes": [],
            "_model_module": "@jupyter-widgets/controls",
            "_model_module_version": "1.5.0",
            "_model_name": "HBoxModel",
            "_view_count": null,
            "_view_module": "@jupyter-widgets/controls",
            "_view_module_version": "1.5.0",
            "_view_name": "HBoxView",
            "box_style": "",
            "children": [
              "IPY_MODEL_fd37aa2b2a4d4160a649ac5c30d1e3ce",
              "IPY_MODEL_63a90ae10f8d45cda481d538efc3543d",
              "IPY_MODEL_508b7a7a2cef4bb79b9bc5b32b563913"
            ],
            "layout": "IPY_MODEL_6dea2848cee54216bd6e2eff33932bdc"
          }
        },
        "fd37aa2b2a4d4160a649ac5c30d1e3ce": {
          "model_module": "@jupyter-widgets/controls",
          "model_name": "HTMLModel",
          "model_module_version": "1.5.0",
          "state": {
            "_dom_classes": [],
            "_model_module": "@jupyter-widgets/controls",
            "_model_module_version": "1.5.0",
            "_model_name": "HTMLModel",
            "_view_count": null,
            "_view_module": "@jupyter-widgets/controls",
            "_view_module_version": "1.5.0",
            "_view_name": "HTMLView",
            "description": "",
            "description_tooltip": null,
            "layout": "IPY_MODEL_7053e31cbe75488da9e13aebd6e53796",
            "placeholder": "​",
            "style": "IPY_MODEL_6a0726ee0c2945398241524be4652c38",
            "value": "tokenizer.json: 100%"
          }
        },
        "63a90ae10f8d45cda481d538efc3543d": {
          "model_module": "@jupyter-widgets/controls",
          "model_name": "FloatProgressModel",
          "model_module_version": "1.5.0",
          "state": {
            "_dom_classes": [],
            "_model_module": "@jupyter-widgets/controls",
            "_model_module_version": "1.5.0",
            "_model_name": "FloatProgressModel",
            "_view_count": null,
            "_view_module": "@jupyter-widgets/controls",
            "_view_module_version": "1.5.0",
            "_view_name": "ProgressView",
            "bar_style": "success",
            "description": "",
            "description_tooltip": null,
            "layout": "IPY_MODEL_efe3bc8f4ddd46168bd784ff5b4f5302",
            "max": 9085657,
            "min": 0,
            "orientation": "horizontal",
            "style": "IPY_MODEL_9bec82870c854053b85c885a725199c3",
            "value": 9085657
          }
        },
        "508b7a7a2cef4bb79b9bc5b32b563913": {
          "model_module": "@jupyter-widgets/controls",
          "model_name": "HTMLModel",
          "model_module_version": "1.5.0",
          "state": {
            "_dom_classes": [],
            "_model_module": "@jupyter-widgets/controls",
            "_model_module_version": "1.5.0",
            "_model_name": "HTMLModel",
            "_view_count": null,
            "_view_module": "@jupyter-widgets/controls",
            "_view_module_version": "1.5.0",
            "_view_name": "HTMLView",
            "description": "",
            "description_tooltip": null,
            "layout": "IPY_MODEL_16b1eb31a14b490d943546abbf438d15",
            "placeholder": "​",
            "style": "IPY_MODEL_f7452569c02d4f82a2e45b147e72e1dd",
            "value": " 9.09M/9.09M [00:00&lt;00:00, 10.4MB/s]"
          }
        },
        "6dea2848cee54216bd6e2eff33932bdc": {
          "model_module": "@jupyter-widgets/base",
          "model_name": "LayoutModel",
          "model_module_version": "1.2.0",
          "state": {
            "_model_module": "@jupyter-widgets/base",
            "_model_module_version": "1.2.0",
            "_model_name": "LayoutModel",
            "_view_count": null,
            "_view_module": "@jupyter-widgets/base",
            "_view_module_version": "1.2.0",
            "_view_name": "LayoutView",
            "align_content": null,
            "align_items": null,
            "align_self": null,
            "border": null,
            "bottom": null,
            "display": null,
            "flex": null,
            "flex_flow": null,
            "grid_area": null,
            "grid_auto_columns": null,
            "grid_auto_flow": null,
            "grid_auto_rows": null,
            "grid_column": null,
            "grid_gap": null,
            "grid_row": null,
            "grid_template_areas": null,
            "grid_template_columns": null,
            "grid_template_rows": null,
            "height": null,
            "justify_content": null,
            "justify_items": null,
            "left": null,
            "margin": null,
            "max_height": null,
            "max_width": null,
            "min_height": null,
            "min_width": null,
            "object_fit": null,
            "object_position": null,
            "order": null,
            "overflow": null,
            "overflow_x": null,
            "overflow_y": null,
            "padding": null,
            "right": null,
            "top": null,
            "visibility": null,
            "width": null
          }
        },
        "7053e31cbe75488da9e13aebd6e53796": {
          "model_module": "@jupyter-widgets/base",
          "model_name": "LayoutModel",
          "model_module_version": "1.2.0",
          "state": {
            "_model_module": "@jupyter-widgets/base",
            "_model_module_version": "1.2.0",
            "_model_name": "LayoutModel",
            "_view_count": null,
            "_view_module": "@jupyter-widgets/base",
            "_view_module_version": "1.2.0",
            "_view_name": "LayoutView",
            "align_content": null,
            "align_items": null,
            "align_self": null,
            "border": null,
            "bottom": null,
            "display": null,
            "flex": null,
            "flex_flow": null,
            "grid_area": null,
            "grid_auto_columns": null,
            "grid_auto_flow": null,
            "grid_auto_rows": null,
            "grid_column": null,
            "grid_gap": null,
            "grid_row": null,
            "grid_template_areas": null,
            "grid_template_columns": null,
            "grid_template_rows": null,
            "height": null,
            "justify_content": null,
            "justify_items": null,
            "left": null,
            "margin": null,
            "max_height": null,
            "max_width": null,
            "min_height": null,
            "min_width": null,
            "object_fit": null,
            "object_position": null,
            "order": null,
            "overflow": null,
            "overflow_x": null,
            "overflow_y": null,
            "padding": null,
            "right": null,
            "top": null,
            "visibility": null,
            "width": null
          }
        },
        "6a0726ee0c2945398241524be4652c38": {
          "model_module": "@jupyter-widgets/controls",
          "model_name": "DescriptionStyleModel",
          "model_module_version": "1.5.0",
          "state": {
            "_model_module": "@jupyter-widgets/controls",
            "_model_module_version": "1.5.0",
            "_model_name": "DescriptionStyleModel",
            "_view_count": null,
            "_view_module": "@jupyter-widgets/base",
            "_view_module_version": "1.2.0",
            "_view_name": "StyleView",
            "description_width": ""
          }
        },
        "efe3bc8f4ddd46168bd784ff5b4f5302": {
          "model_module": "@jupyter-widgets/base",
          "model_name": "LayoutModel",
          "model_module_version": "1.2.0",
          "state": {
            "_model_module": "@jupyter-widgets/base",
            "_model_module_version": "1.2.0",
            "_model_name": "LayoutModel",
            "_view_count": null,
            "_view_module": "@jupyter-widgets/base",
            "_view_module_version": "1.2.0",
            "_view_name": "LayoutView",
            "align_content": null,
            "align_items": null,
            "align_self": null,
            "border": null,
            "bottom": null,
            "display": null,
            "flex": null,
            "flex_flow": null,
            "grid_area": null,
            "grid_auto_columns": null,
            "grid_auto_flow": null,
            "grid_auto_rows": null,
            "grid_column": null,
            "grid_gap": null,
            "grid_row": null,
            "grid_template_areas": null,
            "grid_template_columns": null,
            "grid_template_rows": null,
            "height": null,
            "justify_content": null,
            "justify_items": null,
            "left": null,
            "margin": null,
            "max_height": null,
            "max_width": null,
            "min_height": null,
            "min_width": null,
            "object_fit": null,
            "object_position": null,
            "order": null,
            "overflow": null,
            "overflow_x": null,
            "overflow_y": null,
            "padding": null,
            "right": null,
            "top": null,
            "visibility": null,
            "width": null
          }
        },
        "9bec82870c854053b85c885a725199c3": {
          "model_module": "@jupyter-widgets/controls",
          "model_name": "ProgressStyleModel",
          "model_module_version": "1.5.0",
          "state": {
            "_model_module": "@jupyter-widgets/controls",
            "_model_module_version": "1.5.0",
            "_model_name": "ProgressStyleModel",
            "_view_count": null,
            "_view_module": "@jupyter-widgets/base",
            "_view_module_version": "1.2.0",
            "_view_name": "StyleView",
            "bar_color": null,
            "description_width": ""
          }
        },
        "16b1eb31a14b490d943546abbf438d15": {
          "model_module": "@jupyter-widgets/base",
          "model_name": "LayoutModel",
          "model_module_version": "1.2.0",
          "state": {
            "_model_module": "@jupyter-widgets/base",
            "_model_module_version": "1.2.0",
            "_model_name": "LayoutModel",
            "_view_count": null,
            "_view_module": "@jupyter-widgets/base",
            "_view_module_version": "1.2.0",
            "_view_name": "LayoutView",
            "align_content": null,
            "align_items": null,
            "align_self": null,
            "border": null,
            "bottom": null,
            "display": null,
            "flex": null,
            "flex_flow": null,
            "grid_area": null,
            "grid_auto_columns": null,
            "grid_auto_flow": null,
            "grid_auto_rows": null,
            "grid_column": null,
            "grid_gap": null,
            "grid_row": null,
            "grid_template_areas": null,
            "grid_template_columns": null,
            "grid_template_rows": null,
            "height": null,
            "justify_content": null,
            "justify_items": null,
            "left": null,
            "margin": null,
            "max_height": null,
            "max_width": null,
            "min_height": null,
            "min_width": null,
            "object_fit": null,
            "object_position": null,
            "order": null,
            "overflow": null,
            "overflow_x": null,
            "overflow_y": null,
            "padding": null,
            "right": null,
            "top": null,
            "visibility": null,
            "width": null
          }
        },
        "f7452569c02d4f82a2e45b147e72e1dd": {
          "model_module": "@jupyter-widgets/controls",
          "model_name": "DescriptionStyleModel",
          "model_module_version": "1.5.0",
          "state": {
            "_model_module": "@jupyter-widgets/controls",
            "_model_module_version": "1.5.0",
            "_model_name": "DescriptionStyleModel",
            "_view_count": null,
            "_view_module": "@jupyter-widgets/base",
            "_view_module_version": "1.2.0",
            "_view_name": "StyleView",
            "description_width": ""
          }
        },
        "1bf383a273684830b9584103c8154479": {
          "model_module": "@jupyter-widgets/controls",
          "model_name": "HBoxModel",
          "model_module_version": "1.5.0",
          "state": {
            "_dom_classes": [],
            "_model_module": "@jupyter-widgets/controls",
            "_model_module_version": "1.5.0",
            "_model_name": "HBoxModel",
            "_view_count": null,
            "_view_module": "@jupyter-widgets/controls",
            "_view_module_version": "1.5.0",
            "_view_name": "HBoxView",
            "box_style": "",
            "children": [
              "IPY_MODEL_ae28db0feb334ad3b6c19e1a6845fe34",
              "IPY_MODEL_57a906a3a72648b4a5f3e388840638e9",
              "IPY_MODEL_ab6cc9fcbd1a4303b61ea205640c1aab"
            ],
            "layout": "IPY_MODEL_87a99c50addd48eaa16b4b57e8fb4c7a"
          }
        },
        "ae28db0feb334ad3b6c19e1a6845fe34": {
          "model_module": "@jupyter-widgets/controls",
          "model_name": "HTMLModel",
          "model_module_version": "1.5.0",
          "state": {
            "_dom_classes": [],
            "_model_module": "@jupyter-widgets/controls",
            "_model_module_version": "1.5.0",
            "_model_name": "HTMLModel",
            "_view_count": null,
            "_view_module": "@jupyter-widgets/controls",
            "_view_module_version": "1.5.0",
            "_view_name": "HTMLView",
            "description": "",
            "description_tooltip": null,
            "layout": "IPY_MODEL_77cd50ea4b4f475c98493a328e753ccb",
            "placeholder": "​",
            "style": "IPY_MODEL_8c10032e0a75444082bd82b42c819440",
            "value": "special_tokens_map.json: 100%"
          }
        },
        "57a906a3a72648b4a5f3e388840638e9": {
          "model_module": "@jupyter-widgets/controls",
          "model_name": "FloatProgressModel",
          "model_module_version": "1.5.0",
          "state": {
            "_dom_classes": [],
            "_model_module": "@jupyter-widgets/controls",
            "_model_module_version": "1.5.0",
            "_model_name": "FloatProgressModel",
            "_view_count": null,
            "_view_module": "@jupyter-widgets/controls",
            "_view_module_version": "1.5.0",
            "_view_name": "ProgressView",
            "bar_style": "success",
            "description": "",
            "description_tooltip": null,
            "layout": "IPY_MODEL_a7f5227cda5940449f67862cb77c1c38",
            "max": 296,
            "min": 0,
            "orientation": "horizontal",
            "style": "IPY_MODEL_3e549278cc524425bdfeb5a4b93cc5b3",
            "value": 296
          }
        },
        "ab6cc9fcbd1a4303b61ea205640c1aab": {
          "model_module": "@jupyter-widgets/controls",
          "model_name": "HTMLModel",
          "model_module_version": "1.5.0",
          "state": {
            "_dom_classes": [],
            "_model_module": "@jupyter-widgets/controls",
            "_model_module_version": "1.5.0",
            "_model_name": "HTMLModel",
            "_view_count": null,
            "_view_module": "@jupyter-widgets/controls",
            "_view_module_version": "1.5.0",
            "_view_name": "HTMLView",
            "description": "",
            "description_tooltip": null,
            "layout": "IPY_MODEL_b5ab6f28a986417396a8faccd6be3ab6",
            "placeholder": "​",
            "style": "IPY_MODEL_ff400b7b7a5344b9a64b33388fbf5998",
            "value": " 296/296 [00:00&lt;00:00, 23.4kB/s]"
          }
        },
        "87a99c50addd48eaa16b4b57e8fb4c7a": {
          "model_module": "@jupyter-widgets/base",
          "model_name": "LayoutModel",
          "model_module_version": "1.2.0",
          "state": {
            "_model_module": "@jupyter-widgets/base",
            "_model_module_version": "1.2.0",
            "_model_name": "LayoutModel",
            "_view_count": null,
            "_view_module": "@jupyter-widgets/base",
            "_view_module_version": "1.2.0",
            "_view_name": "LayoutView",
            "align_content": null,
            "align_items": null,
            "align_self": null,
            "border": null,
            "bottom": null,
            "display": null,
            "flex": null,
            "flex_flow": null,
            "grid_area": null,
            "grid_auto_columns": null,
            "grid_auto_flow": null,
            "grid_auto_rows": null,
            "grid_column": null,
            "grid_gap": null,
            "grid_row": null,
            "grid_template_areas": null,
            "grid_template_columns": null,
            "grid_template_rows": null,
            "height": null,
            "justify_content": null,
            "justify_items": null,
            "left": null,
            "margin": null,
            "max_height": null,
            "max_width": null,
            "min_height": null,
            "min_width": null,
            "object_fit": null,
            "object_position": null,
            "order": null,
            "overflow": null,
            "overflow_x": null,
            "overflow_y": null,
            "padding": null,
            "right": null,
            "top": null,
            "visibility": null,
            "width": null
          }
        },
        "77cd50ea4b4f475c98493a328e753ccb": {
          "model_module": "@jupyter-widgets/base",
          "model_name": "LayoutModel",
          "model_module_version": "1.2.0",
          "state": {
            "_model_module": "@jupyter-widgets/base",
            "_model_module_version": "1.2.0",
            "_model_name": "LayoutModel",
            "_view_count": null,
            "_view_module": "@jupyter-widgets/base",
            "_view_module_version": "1.2.0",
            "_view_name": "LayoutView",
            "align_content": null,
            "align_items": null,
            "align_self": null,
            "border": null,
            "bottom": null,
            "display": null,
            "flex": null,
            "flex_flow": null,
            "grid_area": null,
            "grid_auto_columns": null,
            "grid_auto_flow": null,
            "grid_auto_rows": null,
            "grid_column": null,
            "grid_gap": null,
            "grid_row": null,
            "grid_template_areas": null,
            "grid_template_columns": null,
            "grid_template_rows": null,
            "height": null,
            "justify_content": null,
            "justify_items": null,
            "left": null,
            "margin": null,
            "max_height": null,
            "max_width": null,
            "min_height": null,
            "min_width": null,
            "object_fit": null,
            "object_position": null,
            "order": null,
            "overflow": null,
            "overflow_x": null,
            "overflow_y": null,
            "padding": null,
            "right": null,
            "top": null,
            "visibility": null,
            "width": null
          }
        },
        "8c10032e0a75444082bd82b42c819440": {
          "model_module": "@jupyter-widgets/controls",
          "model_name": "DescriptionStyleModel",
          "model_module_version": "1.5.0",
          "state": {
            "_model_module": "@jupyter-widgets/controls",
            "_model_module_version": "1.5.0",
            "_model_name": "DescriptionStyleModel",
            "_view_count": null,
            "_view_module": "@jupyter-widgets/base",
            "_view_module_version": "1.2.0",
            "_view_name": "StyleView",
            "description_width": ""
          }
        },
        "a7f5227cda5940449f67862cb77c1c38": {
          "model_module": "@jupyter-widgets/base",
          "model_name": "LayoutModel",
          "model_module_version": "1.2.0",
          "state": {
            "_model_module": "@jupyter-widgets/base",
            "_model_module_version": "1.2.0",
            "_model_name": "LayoutModel",
            "_view_count": null,
            "_view_module": "@jupyter-widgets/base",
            "_view_module_version": "1.2.0",
            "_view_name": "LayoutView",
            "align_content": null,
            "align_items": null,
            "align_self": null,
            "border": null,
            "bottom": null,
            "display": null,
            "flex": null,
            "flex_flow": null,
            "grid_area": null,
            "grid_auto_columns": null,
            "grid_auto_flow": null,
            "grid_auto_rows": null,
            "grid_column": null,
            "grid_gap": null,
            "grid_row": null,
            "grid_template_areas": null,
            "grid_template_columns": null,
            "grid_template_rows": null,
            "height": null,
            "justify_content": null,
            "justify_items": null,
            "left": null,
            "margin": null,
            "max_height": null,
            "max_width": null,
            "min_height": null,
            "min_width": null,
            "object_fit": null,
            "object_position": null,
            "order": null,
            "overflow": null,
            "overflow_x": null,
            "overflow_y": null,
            "padding": null,
            "right": null,
            "top": null,
            "visibility": null,
            "width": null
          }
        },
        "3e549278cc524425bdfeb5a4b93cc5b3": {
          "model_module": "@jupyter-widgets/controls",
          "model_name": "ProgressStyleModel",
          "model_module_version": "1.5.0",
          "state": {
            "_model_module": "@jupyter-widgets/controls",
            "_model_module_version": "1.5.0",
            "_model_name": "ProgressStyleModel",
            "_view_count": null,
            "_view_module": "@jupyter-widgets/base",
            "_view_module_version": "1.2.0",
            "_view_name": "StyleView",
            "bar_color": null,
            "description_width": ""
          }
        },
        "b5ab6f28a986417396a8faccd6be3ab6": {
          "model_module": "@jupyter-widgets/base",
          "model_name": "LayoutModel",
          "model_module_version": "1.2.0",
          "state": {
            "_model_module": "@jupyter-widgets/base",
            "_model_module_version": "1.2.0",
            "_model_name": "LayoutModel",
            "_view_count": null,
            "_view_module": "@jupyter-widgets/base",
            "_view_module_version": "1.2.0",
            "_view_name": "LayoutView",
            "align_content": null,
            "align_items": null,
            "align_self": null,
            "border": null,
            "bottom": null,
            "display": null,
            "flex": null,
            "flex_flow": null,
            "grid_area": null,
            "grid_auto_columns": null,
            "grid_auto_flow": null,
            "grid_auto_rows": null,
            "grid_column": null,
            "grid_gap": null,
            "grid_row": null,
            "grid_template_areas": null,
            "grid_template_columns": null,
            "grid_template_rows": null,
            "height": null,
            "justify_content": null,
            "justify_items": null,
            "left": null,
            "margin": null,
            "max_height": null,
            "max_width": null,
            "min_height": null,
            "min_width": null,
            "object_fit": null,
            "object_position": null,
            "order": null,
            "overflow": null,
            "overflow_x": null,
            "overflow_y": null,
            "padding": null,
            "right": null,
            "top": null,
            "visibility": null,
            "width": null
          }
        },
        "ff400b7b7a5344b9a64b33388fbf5998": {
          "model_module": "@jupyter-widgets/controls",
          "model_name": "DescriptionStyleModel",
          "model_module_version": "1.5.0",
          "state": {
            "_model_module": "@jupyter-widgets/controls",
            "_model_module_version": "1.5.0",
            "_model_name": "DescriptionStyleModel",
            "_view_count": null,
            "_view_module": "@jupyter-widgets/base",
            "_view_module_version": "1.2.0",
            "_view_name": "StyleView",
            "description_width": ""
          }
        }
      }
    }
  },
  "cells": [
    {
      "cell_type": "markdown",
      "source": [
        "# Tokenizers\n",
        "\n",
        "For this Colab session, we explore the world of Tokenizers\n",
        "\n",
        "You can run this notebook on a free CPU, or locally on your box if you prefer.\n"
      ],
      "metadata": {
        "id": "ayiYEglO9T8Z"
      }
    },
    {
      "cell_type": "code",
      "source": [
        "!pip install --upgrade transformers"
      ],
      "metadata": {
        "colab": {
          "base_uri": "https://localhost:8080/",
          "height": 635
        },
        "id": "UjvxAJEbZxZ3",
        "outputId": "a1e64dd9-3230-4bb6-8cea-a90188f7a9a8"
      },
      "execution_count": 57,
      "outputs": [
        {
          "output_type": "stream",
          "name": "stdout",
          "text": [
            "Requirement already satisfied: transformers in /usr/local/lib/python3.11/dist-packages (4.48.3)\n",
            "Collecting transformers\n",
            "  Downloading transformers-4.49.0-py3-none-any.whl.metadata (44 kB)\n",
            "\u001b[2K     \u001b[90m━━━━━━━━━━━━━━━━━━━━━━━━━━━━━━━━━━━━━━━━\u001b[0m \u001b[32m44.0/44.0 kB\u001b[0m \u001b[31m3.4 MB/s\u001b[0m eta \u001b[36m0:00:00\u001b[0m\n",
            "\u001b[?25hRequirement already satisfied: filelock in /usr/local/lib/python3.11/dist-packages (from transformers) (3.17.0)\n",
            "Requirement already satisfied: huggingface-hub<1.0,>=0.26.0 in /usr/local/lib/python3.11/dist-packages (from transformers) (0.28.1)\n",
            "Requirement already satisfied: numpy>=1.17 in /usr/local/lib/python3.11/dist-packages (from transformers) (1.26.4)\n",
            "Requirement already satisfied: packaging>=20.0 in /usr/local/lib/python3.11/dist-packages (from transformers) (24.2)\n",
            "Requirement already satisfied: pyyaml>=5.1 in /usr/local/lib/python3.11/dist-packages (from transformers) (6.0.2)\n",
            "Requirement already satisfied: regex!=2019.12.17 in /usr/local/lib/python3.11/dist-packages (from transformers) (2024.11.6)\n",
            "Requirement already satisfied: requests in /usr/local/lib/python3.11/dist-packages (from transformers) (2.32.3)\n",
            "Requirement already satisfied: tokenizers<0.22,>=0.21 in /usr/local/lib/python3.11/dist-packages (from transformers) (0.21.0)\n",
            "Requirement already satisfied: safetensors>=0.4.1 in /usr/local/lib/python3.11/dist-packages (from transformers) (0.5.3)\n",
            "Requirement already satisfied: tqdm>=4.27 in /usr/local/lib/python3.11/dist-packages (from transformers) (4.67.1)\n",
            "Requirement already satisfied: fsspec>=2023.5.0 in /usr/local/lib/python3.11/dist-packages (from huggingface-hub<1.0,>=0.26.0->transformers) (2024.10.0)\n",
            "Requirement already satisfied: typing-extensions>=3.7.4.3 in /usr/local/lib/python3.11/dist-packages (from huggingface-hub<1.0,>=0.26.0->transformers) (4.12.2)\n",
            "Requirement already satisfied: charset-normalizer<4,>=2 in /usr/local/lib/python3.11/dist-packages (from requests->transformers) (3.4.1)\n",
            "Requirement already satisfied: idna<4,>=2.5 in /usr/local/lib/python3.11/dist-packages (from requests->transformers) (3.10)\n",
            "Requirement already satisfied: urllib3<3,>=1.21.1 in /usr/local/lib/python3.11/dist-packages (from requests->transformers) (2.3.0)\n",
            "Requirement already satisfied: certifi>=2017.4.17 in /usr/local/lib/python3.11/dist-packages (from requests->transformers) (2025.1.31)\n",
            "Downloading transformers-4.49.0-py3-none-any.whl (10.0 MB)\n",
            "\u001b[2K   \u001b[90m━━━━━━━━━━━━━━━━━━━━━━━━━━━━━━━━━━━━━━━━\u001b[0m \u001b[32m10.0/10.0 MB\u001b[0m \u001b[31m63.0 MB/s\u001b[0m eta \u001b[36m0:00:00\u001b[0m\n",
            "\u001b[?25hInstalling collected packages: transformers\n",
            "  Attempting uninstall: transformers\n",
            "    Found existing installation: transformers 4.48.3\n",
            "    Uninstalling transformers-4.48.3:\n",
            "      Successfully uninstalled transformers-4.48.3\n",
            "Successfully installed transformers-4.49.0\n"
          ]
        },
        {
          "output_type": "display_data",
          "data": {
            "application/vnd.colab-display-data+json": {
              "pip_warning": {
                "packages": [
                  "transformers"
                ]
              },
              "id": "998ca73fc57341acb865128df186df5d"
            }
          },
          "metadata": {}
        }
      ]
    },
    {
      "cell_type": "code",
      "execution_count": 1,
      "metadata": {
        "id": "C9zvDGWD5pKp"
      },
      "outputs": [],
      "source": [
        "from google.colab import userdata\n",
        "from huggingface_hub import login\n",
        "from transformers import AutoTokenizer"
      ]
    },
    {
      "cell_type": "markdown",
      "source": [
        "# Sign in to Hugging Face\n",
        "\n",
        "1. If you haven't already done so, create a free HuggingFace account at https://huggingface.co and navigate to Settings, then Create a new API token, giving yourself write permissions\n",
        "\n",
        "**IMPORTANT** when you create your HuggingFace API key, please be sure to select read/write permissions for your key by clicking on the WRITE tab, otherwise you may get problems later.\n",
        "\n",
        "2. Press the \"key\" icon on the side panel to the left, and add a new secret:\n",
        "`HF_TOKEN = your_token`\n",
        "\n",
        "3. Execute the cell below to log in."
      ],
      "metadata": {
        "id": "xyKWKWSw7Iqp"
      }
    },
    {
      "cell_type": "code",
      "source": [
        "hf_token = userdata.get('HF_TOKEN')\n",
        "login(hf_token, add_to_git_credential=True)"
      ],
      "metadata": {
        "id": "xd7cEDUC6Lkq"
      },
      "execution_count": 2,
      "outputs": []
    },
    {
      "cell_type": "markdown",
      "source": [
        "# Accessing Llama 3.1 from Meta\n",
        "\n",
        "In order to use the fantastic Llama 3.1, Meta does require you to sign their terms of service.\n",
        "\n",
        "Visit their model instructions page in Hugging Face:\n",
        "https://huggingface.co/meta-llama/Meta-Llama-3.1-8B\n",
        "\n",
        "At the top of the page are instructions on how to agree to their terms. If possible, you should use the same email as your huggingface account.\n",
        "\n",
        "In my experience approval comes in a couple of minutes. Once you've been approved for any 3.1 model, it applies to the whole 3.1 family of models. For whatever reason, occasionally Meta doesn't approve access. If that happens to you, please follow [this](https://colab.research.google.com/drive/1deJO03YZTXUwcq2vzxWbiBhrRuI29Vo8?usp=sharing) troubleshooting.\n",
        "\n",
        "If the next cell gives you an error, then please check:  \n",
        "1. Are you logged in to HuggingFace? Try running `login()` to check your key works\n",
        "2. Did you set up your API key with full read and write permissions?\n",
        "3. If you visit the Llama3.1 page with the link above, does it show that you have access to the model near the top?\n",
        "\n",
        "I've also set up this troubleshooting colab to try to diagnose any HuggingFace connectivity issues:  \n",
        "https://colab.research.google.com/drive/1deJO03YZTXUwcq2vzxWbiBhrRuI29Vo8?usp=sharing\n"
      ],
      "metadata": {
        "id": "ZSiYqPn87msu"
      }
    },
    {
      "cell_type": "code",
      "source": [
        "!huggingface-cli whoami"
      ],
      "metadata": {
        "colab": {
          "base_uri": "https://localhost:8080/"
        },
        "id": "zvzdr03cOiz-",
        "outputId": "ea73800a-5cb4-44ae-8c19-676faba5329c"
      },
      "execution_count": 3,
      "outputs": [
        {
          "output_type": "stream",
          "name": "stdout",
          "text": [
            "yeddanapudi\n"
          ]
        }
      ]
    },
    {
      "cell_type": "code",
      "source": [
        "# Load model directly\n",
        "from transformers import AutoTokenizer, AutoModelForCausalLM\n",
        "\n",
        "tokenizer = AutoTokenizer.from_pretrained(\"meta-llama/Llama-3.2-3B\")\n"
      ],
      "metadata": {
        "id": "swoiXwUb7RoA"
      },
      "execution_count": 1,
      "outputs": []
    },
    {
      "cell_type": "code",
      "source": [
        "text = \"I am excited to show Tokenizers in action to my LLM engineers\"\n",
        "tokens = tokenizer.encode(text)\n",
        "tokens"
      ],
      "metadata": {
        "id": "kgJTmHNm8Ui4",
        "colab": {
          "base_uri": "https://localhost:8080/"
        },
        "outputId": "6771bc21-8938-4c21-f4c3-8b0424884d1c"
      },
      "execution_count": 2,
      "outputs": [
        {
          "output_type": "execute_result",
          "data": {
            "text/plain": [
              "[128000,\n",
              " 40,\n",
              " 1097,\n",
              " 12304,\n",
              " 311,\n",
              " 1501,\n",
              " 9857,\n",
              " 12509,\n",
              " 304,\n",
              " 1957,\n",
              " 311,\n",
              " 856,\n",
              " 445,\n",
              " 11237,\n",
              " 25175]"
            ]
          },
          "metadata": {},
          "execution_count": 2
        }
      ]
    },
    {
      "cell_type": "code",
      "source": [
        "len(tokens)"
      ],
      "metadata": {
        "id": "QHnp79Ig8vPT",
        "colab": {
          "base_uri": "https://localhost:8080/"
        },
        "outputId": "8c14fd2b-0591-4c5a-c350-dbf37f8348f7"
      },
      "execution_count": 3,
      "outputs": [
        {
          "output_type": "execute_result",
          "data": {
            "text/plain": [
              "15"
            ]
          },
          "metadata": {},
          "execution_count": 3
        }
      ]
    },
    {
      "cell_type": "code",
      "source": [
        "tokenizer.decode(tokens)"
      ],
      "metadata": {
        "id": "rtptNsDf83RC",
        "colab": {
          "base_uri": "https://localhost:8080/",
          "height": 35
        },
        "outputId": "6a91de42-9aae-48b4-f92a-3856da0fd658"
      },
      "execution_count": 4,
      "outputs": [
        {
          "output_type": "execute_result",
          "data": {
            "text/plain": [
              "'<|begin_of_text|>I am excited to show Tokenizers in action to my LLM engineers'"
            ],
            "application/vnd.google.colaboratory.intrinsic+json": {
              "type": "string"
            }
          },
          "metadata": {},
          "execution_count": 4
        }
      ]
    },
    {
      "cell_type": "code",
      "source": [
        "tokenizer.batch_decode(tokens)"
      ],
      "metadata": {
        "id": "ZlQT65oz8-aF",
        "colab": {
          "base_uri": "https://localhost:8080/"
        },
        "outputId": "dd0d2427-2343-467c-8478-8a8cf0af8356"
      },
      "execution_count": 5,
      "outputs": [
        {
          "output_type": "execute_result",
          "data": {
            "text/plain": [
              "['<|begin_of_text|>',\n",
              " 'I',\n",
              " ' am',\n",
              " ' excited',\n",
              " ' to',\n",
              " ' show',\n",
              " ' Token',\n",
              " 'izers',\n",
              " ' in',\n",
              " ' action',\n",
              " ' to',\n",
              " ' my',\n",
              " ' L',\n",
              " 'LM',\n",
              " ' engineers']"
            ]
          },
          "metadata": {},
          "execution_count": 5
        }
      ]
    },
    {
      "cell_type": "code",
      "source": [
        "# tokenizer.vocab\n",
        "tokenizer.get_added_vocab()"
      ],
      "metadata": {
        "id": "y7LTUIlD9Gdm",
        "colab": {
          "base_uri": "https://localhost:8080/"
        },
        "outputId": "321054a1-b32a-412d-8b0f-075c76fba38f"
      },
      "execution_count": 6,
      "outputs": [
        {
          "output_type": "execute_result",
          "data": {
            "text/plain": [
              "{'<|begin_of_text|>': 128000,\n",
              " '<|end_of_text|>': 128001,\n",
              " '<|reserved_special_token_0|>': 128002,\n",
              " '<|reserved_special_token_1|>': 128003,\n",
              " '<|finetune_right_pad_id|>': 128004,\n",
              " '<|reserved_special_token_2|>': 128005,\n",
              " '<|start_header_id|>': 128006,\n",
              " '<|end_header_id|>': 128007,\n",
              " '<|eom_id|>': 128008,\n",
              " '<|eot_id|>': 128009,\n",
              " '<|python_tag|>': 128010,\n",
              " '<|reserved_special_token_3|>': 128011,\n",
              " '<|reserved_special_token_4|>': 128012,\n",
              " '<|reserved_special_token_5|>': 128013,\n",
              " '<|reserved_special_token_6|>': 128014,\n",
              " '<|reserved_special_token_7|>': 128015,\n",
              " '<|reserved_special_token_8|>': 128016,\n",
              " '<|reserved_special_token_9|>': 128017,\n",
              " '<|reserved_special_token_10|>': 128018,\n",
              " '<|reserved_special_token_11|>': 128019,\n",
              " '<|reserved_special_token_12|>': 128020,\n",
              " '<|reserved_special_token_13|>': 128021,\n",
              " '<|reserved_special_token_14|>': 128022,\n",
              " '<|reserved_special_token_15|>': 128023,\n",
              " '<|reserved_special_token_16|>': 128024,\n",
              " '<|reserved_special_token_17|>': 128025,\n",
              " '<|reserved_special_token_18|>': 128026,\n",
              " '<|reserved_special_token_19|>': 128027,\n",
              " '<|reserved_special_token_20|>': 128028,\n",
              " '<|reserved_special_token_21|>': 128029,\n",
              " '<|reserved_special_token_22|>': 128030,\n",
              " '<|reserved_special_token_23|>': 128031,\n",
              " '<|reserved_special_token_24|>': 128032,\n",
              " '<|reserved_special_token_25|>': 128033,\n",
              " '<|reserved_special_token_26|>': 128034,\n",
              " '<|reserved_special_token_27|>': 128035,\n",
              " '<|reserved_special_token_28|>': 128036,\n",
              " '<|reserved_special_token_29|>': 128037,\n",
              " '<|reserved_special_token_30|>': 128038,\n",
              " '<|reserved_special_token_31|>': 128039,\n",
              " '<|reserved_special_token_32|>': 128040,\n",
              " '<|reserved_special_token_33|>': 128041,\n",
              " '<|reserved_special_token_34|>': 128042,\n",
              " '<|reserved_special_token_35|>': 128043,\n",
              " '<|reserved_special_token_36|>': 128044,\n",
              " '<|reserved_special_token_37|>': 128045,\n",
              " '<|reserved_special_token_38|>': 128046,\n",
              " '<|reserved_special_token_39|>': 128047,\n",
              " '<|reserved_special_token_40|>': 128048,\n",
              " '<|reserved_special_token_41|>': 128049,\n",
              " '<|reserved_special_token_42|>': 128050,\n",
              " '<|reserved_special_token_43|>': 128051,\n",
              " '<|reserved_special_token_44|>': 128052,\n",
              " '<|reserved_special_token_45|>': 128053,\n",
              " '<|reserved_special_token_46|>': 128054,\n",
              " '<|reserved_special_token_47|>': 128055,\n",
              " '<|reserved_special_token_48|>': 128056,\n",
              " '<|reserved_special_token_49|>': 128057,\n",
              " '<|reserved_special_token_50|>': 128058,\n",
              " '<|reserved_special_token_51|>': 128059,\n",
              " '<|reserved_special_token_52|>': 128060,\n",
              " '<|reserved_special_token_53|>': 128061,\n",
              " '<|reserved_special_token_54|>': 128062,\n",
              " '<|reserved_special_token_55|>': 128063,\n",
              " '<|reserved_special_token_56|>': 128064,\n",
              " '<|reserved_special_token_57|>': 128065,\n",
              " '<|reserved_special_token_58|>': 128066,\n",
              " '<|reserved_special_token_59|>': 128067,\n",
              " '<|reserved_special_token_60|>': 128068,\n",
              " '<|reserved_special_token_61|>': 128069,\n",
              " '<|reserved_special_token_62|>': 128070,\n",
              " '<|reserved_special_token_63|>': 128071,\n",
              " '<|reserved_special_token_64|>': 128072,\n",
              " '<|reserved_special_token_65|>': 128073,\n",
              " '<|reserved_special_token_66|>': 128074,\n",
              " '<|reserved_special_token_67|>': 128075,\n",
              " '<|reserved_special_token_68|>': 128076,\n",
              " '<|reserved_special_token_69|>': 128077,\n",
              " '<|reserved_special_token_70|>': 128078,\n",
              " '<|reserved_special_token_71|>': 128079,\n",
              " '<|reserved_special_token_72|>': 128080,\n",
              " '<|reserved_special_token_73|>': 128081,\n",
              " '<|reserved_special_token_74|>': 128082,\n",
              " '<|reserved_special_token_75|>': 128083,\n",
              " '<|reserved_special_token_76|>': 128084,\n",
              " '<|reserved_special_token_77|>': 128085,\n",
              " '<|reserved_special_token_78|>': 128086,\n",
              " '<|reserved_special_token_79|>': 128087,\n",
              " '<|reserved_special_token_80|>': 128088,\n",
              " '<|reserved_special_token_81|>': 128089,\n",
              " '<|reserved_special_token_82|>': 128090,\n",
              " '<|reserved_special_token_83|>': 128091,\n",
              " '<|reserved_special_token_84|>': 128092,\n",
              " '<|reserved_special_token_85|>': 128093,\n",
              " '<|reserved_special_token_86|>': 128094,\n",
              " '<|reserved_special_token_87|>': 128095,\n",
              " '<|reserved_special_token_88|>': 128096,\n",
              " '<|reserved_special_token_89|>': 128097,\n",
              " '<|reserved_special_token_90|>': 128098,\n",
              " '<|reserved_special_token_91|>': 128099,\n",
              " '<|reserved_special_token_92|>': 128100,\n",
              " '<|reserved_special_token_93|>': 128101,\n",
              " '<|reserved_special_token_94|>': 128102,\n",
              " '<|reserved_special_token_95|>': 128103,\n",
              " '<|reserved_special_token_96|>': 128104,\n",
              " '<|reserved_special_token_97|>': 128105,\n",
              " '<|reserved_special_token_98|>': 128106,\n",
              " '<|reserved_special_token_99|>': 128107,\n",
              " '<|reserved_special_token_100|>': 128108,\n",
              " '<|reserved_special_token_101|>': 128109,\n",
              " '<|reserved_special_token_102|>': 128110,\n",
              " '<|reserved_special_token_103|>': 128111,\n",
              " '<|reserved_special_token_104|>': 128112,\n",
              " '<|reserved_special_token_105|>': 128113,\n",
              " '<|reserved_special_token_106|>': 128114,\n",
              " '<|reserved_special_token_107|>': 128115,\n",
              " '<|reserved_special_token_108|>': 128116,\n",
              " '<|reserved_special_token_109|>': 128117,\n",
              " '<|reserved_special_token_110|>': 128118,\n",
              " '<|reserved_special_token_111|>': 128119,\n",
              " '<|reserved_special_token_112|>': 128120,\n",
              " '<|reserved_special_token_113|>': 128121,\n",
              " '<|reserved_special_token_114|>': 128122,\n",
              " '<|reserved_special_token_115|>': 128123,\n",
              " '<|reserved_special_token_116|>': 128124,\n",
              " '<|reserved_special_token_117|>': 128125,\n",
              " '<|reserved_special_token_118|>': 128126,\n",
              " '<|reserved_special_token_119|>': 128127,\n",
              " '<|reserved_special_token_120|>': 128128,\n",
              " '<|reserved_special_token_121|>': 128129,\n",
              " '<|reserved_special_token_122|>': 128130,\n",
              " '<|reserved_special_token_123|>': 128131,\n",
              " '<|reserved_special_token_124|>': 128132,\n",
              " '<|reserved_special_token_125|>': 128133,\n",
              " '<|reserved_special_token_126|>': 128134,\n",
              " '<|reserved_special_token_127|>': 128135,\n",
              " '<|reserved_special_token_128|>': 128136,\n",
              " '<|reserved_special_token_129|>': 128137,\n",
              " '<|reserved_special_token_130|>': 128138,\n",
              " '<|reserved_special_token_131|>': 128139,\n",
              " '<|reserved_special_token_132|>': 128140,\n",
              " '<|reserved_special_token_133|>': 128141,\n",
              " '<|reserved_special_token_134|>': 128142,\n",
              " '<|reserved_special_token_135|>': 128143,\n",
              " '<|reserved_special_token_136|>': 128144,\n",
              " '<|reserved_special_token_137|>': 128145,\n",
              " '<|reserved_special_token_138|>': 128146,\n",
              " '<|reserved_special_token_139|>': 128147,\n",
              " '<|reserved_special_token_140|>': 128148,\n",
              " '<|reserved_special_token_141|>': 128149,\n",
              " '<|reserved_special_token_142|>': 128150,\n",
              " '<|reserved_special_token_143|>': 128151,\n",
              " '<|reserved_special_token_144|>': 128152,\n",
              " '<|reserved_special_token_145|>': 128153,\n",
              " '<|reserved_special_token_146|>': 128154,\n",
              " '<|reserved_special_token_147|>': 128155,\n",
              " '<|reserved_special_token_148|>': 128156,\n",
              " '<|reserved_special_token_149|>': 128157,\n",
              " '<|reserved_special_token_150|>': 128158,\n",
              " '<|reserved_special_token_151|>': 128159,\n",
              " '<|reserved_special_token_152|>': 128160,\n",
              " '<|reserved_special_token_153|>': 128161,\n",
              " '<|reserved_special_token_154|>': 128162,\n",
              " '<|reserved_special_token_155|>': 128163,\n",
              " '<|reserved_special_token_156|>': 128164,\n",
              " '<|reserved_special_token_157|>': 128165,\n",
              " '<|reserved_special_token_158|>': 128166,\n",
              " '<|reserved_special_token_159|>': 128167,\n",
              " '<|reserved_special_token_160|>': 128168,\n",
              " '<|reserved_special_token_161|>': 128169,\n",
              " '<|reserved_special_token_162|>': 128170,\n",
              " '<|reserved_special_token_163|>': 128171,\n",
              " '<|reserved_special_token_164|>': 128172,\n",
              " '<|reserved_special_token_165|>': 128173,\n",
              " '<|reserved_special_token_166|>': 128174,\n",
              " '<|reserved_special_token_167|>': 128175,\n",
              " '<|reserved_special_token_168|>': 128176,\n",
              " '<|reserved_special_token_169|>': 128177,\n",
              " '<|reserved_special_token_170|>': 128178,\n",
              " '<|reserved_special_token_171|>': 128179,\n",
              " '<|reserved_special_token_172|>': 128180,\n",
              " '<|reserved_special_token_173|>': 128181,\n",
              " '<|reserved_special_token_174|>': 128182,\n",
              " '<|reserved_special_token_175|>': 128183,\n",
              " '<|reserved_special_token_176|>': 128184,\n",
              " '<|reserved_special_token_177|>': 128185,\n",
              " '<|reserved_special_token_178|>': 128186,\n",
              " '<|reserved_special_token_179|>': 128187,\n",
              " '<|reserved_special_token_180|>': 128188,\n",
              " '<|reserved_special_token_181|>': 128189,\n",
              " '<|reserved_special_token_182|>': 128190,\n",
              " '<|reserved_special_token_183|>': 128191,\n",
              " '<|reserved_special_token_184|>': 128192,\n",
              " '<|reserved_special_token_185|>': 128193,\n",
              " '<|reserved_special_token_186|>': 128194,\n",
              " '<|reserved_special_token_187|>': 128195,\n",
              " '<|reserved_special_token_188|>': 128196,\n",
              " '<|reserved_special_token_189|>': 128197,\n",
              " '<|reserved_special_token_190|>': 128198,\n",
              " '<|reserved_special_token_191|>': 128199,\n",
              " '<|reserved_special_token_192|>': 128200,\n",
              " '<|reserved_special_token_193|>': 128201,\n",
              " '<|reserved_special_token_194|>': 128202,\n",
              " '<|reserved_special_token_195|>': 128203,\n",
              " '<|reserved_special_token_196|>': 128204,\n",
              " '<|reserved_special_token_197|>': 128205,\n",
              " '<|reserved_special_token_198|>': 128206,\n",
              " '<|reserved_special_token_199|>': 128207,\n",
              " '<|reserved_special_token_200|>': 128208,\n",
              " '<|reserved_special_token_201|>': 128209,\n",
              " '<|reserved_special_token_202|>': 128210,\n",
              " '<|reserved_special_token_203|>': 128211,\n",
              " '<|reserved_special_token_204|>': 128212,\n",
              " '<|reserved_special_token_205|>': 128213,\n",
              " '<|reserved_special_token_206|>': 128214,\n",
              " '<|reserved_special_token_207|>': 128215,\n",
              " '<|reserved_special_token_208|>': 128216,\n",
              " '<|reserved_special_token_209|>': 128217,\n",
              " '<|reserved_special_token_210|>': 128218,\n",
              " '<|reserved_special_token_211|>': 128219,\n",
              " '<|reserved_special_token_212|>': 128220,\n",
              " '<|reserved_special_token_213|>': 128221,\n",
              " '<|reserved_special_token_214|>': 128222,\n",
              " '<|reserved_special_token_215|>': 128223,\n",
              " '<|reserved_special_token_216|>': 128224,\n",
              " '<|reserved_special_token_217|>': 128225,\n",
              " '<|reserved_special_token_218|>': 128226,\n",
              " '<|reserved_special_token_219|>': 128227,\n",
              " '<|reserved_special_token_220|>': 128228,\n",
              " '<|reserved_special_token_221|>': 128229,\n",
              " '<|reserved_special_token_222|>': 128230,\n",
              " '<|reserved_special_token_223|>': 128231,\n",
              " '<|reserved_special_token_224|>': 128232,\n",
              " '<|reserved_special_token_225|>': 128233,\n",
              " '<|reserved_special_token_226|>': 128234,\n",
              " '<|reserved_special_token_227|>': 128235,\n",
              " '<|reserved_special_token_228|>': 128236,\n",
              " '<|reserved_special_token_229|>': 128237,\n",
              " '<|reserved_special_token_230|>': 128238,\n",
              " '<|reserved_special_token_231|>': 128239,\n",
              " '<|reserved_special_token_232|>': 128240,\n",
              " '<|reserved_special_token_233|>': 128241,\n",
              " '<|reserved_special_token_234|>': 128242,\n",
              " '<|reserved_special_token_235|>': 128243,\n",
              " '<|reserved_special_token_236|>': 128244,\n",
              " '<|reserved_special_token_237|>': 128245,\n",
              " '<|reserved_special_token_238|>': 128246,\n",
              " '<|reserved_special_token_239|>': 128247,\n",
              " '<|reserved_special_token_240|>': 128248,\n",
              " '<|reserved_special_token_241|>': 128249,\n",
              " '<|reserved_special_token_242|>': 128250,\n",
              " '<|reserved_special_token_243|>': 128251,\n",
              " '<|reserved_special_token_244|>': 128252,\n",
              " '<|reserved_special_token_245|>': 128253,\n",
              " '<|reserved_special_token_246|>': 128254,\n",
              " '<|reserved_special_token_247|>': 128255}"
            ]
          },
          "metadata": {},
          "execution_count": 6
        }
      ]
    },
    {
      "cell_type": "markdown",
      "source": [
        "# Instruct variants of models\n",
        "\n",
        "Many models have a variant that has been trained for use in Chats.  \n",
        "These are typically labelled with the word \"Instruct\" at the end.  \n",
        "They have been trained to expect prompts with a particular format that includes system, user and assistant prompts.  \n",
        "\n",
        "There is a utility method `apply_chat_template` that will convert from the messages list format we are familiar with, into the right input prompt for this model."
      ],
      "metadata": {
        "id": "kke10gYj_U87"
      }
    },
    {
      "cell_type": "code",
      "source": [
        "tokenizer = AutoTokenizer.from_pretrained('meta-llama/Llama-3.2-3B-Instruct', trust_remote_code=True)"
      ],
      "metadata": {
        "id": "4DJs4UPx9XfE",
        "colab": {
          "base_uri": "https://localhost:8080/",
          "height": 113,
          "referenced_widgets": [
            "d70bf1af23b142799c6a7b20b0f57f91",
            "dfb9435c450b49f0bc79f07a040a3562",
            "76ca4aef6f524ba781e4bfb2b38b29bc",
            "230eabae674b4f859c3c4508e2c17a10",
            "c0b37002b7104631980e21c08395edd8",
            "f52e60d6722d4593995929b798ced1b7",
            "945c0eeeeee9460fa104fbfb5e4f8840",
            "ee23c290e7484feaa3ece1ede358e647",
            "ff4dc8dd347c4a53b8456a76b1963f57",
            "38ee74674ffa4d64bb09d6cde72e9fe6",
            "1a9b4957fc19459db5db67f5e5a26c38",
            "d12295740a484155a20426dcb860ff8f",
            "fd37aa2b2a4d4160a649ac5c30d1e3ce",
            "63a90ae10f8d45cda481d538efc3543d",
            "508b7a7a2cef4bb79b9bc5b32b563913",
            "6dea2848cee54216bd6e2eff33932bdc",
            "7053e31cbe75488da9e13aebd6e53796",
            "6a0726ee0c2945398241524be4652c38",
            "efe3bc8f4ddd46168bd784ff5b4f5302",
            "9bec82870c854053b85c885a725199c3",
            "16b1eb31a14b490d943546abbf438d15",
            "f7452569c02d4f82a2e45b147e72e1dd",
            "1bf383a273684830b9584103c8154479",
            "ae28db0feb334ad3b6c19e1a6845fe34",
            "57a906a3a72648b4a5f3e388840638e9",
            "ab6cc9fcbd1a4303b61ea205640c1aab",
            "87a99c50addd48eaa16b4b57e8fb4c7a",
            "77cd50ea4b4f475c98493a328e753ccb",
            "8c10032e0a75444082bd82b42c819440",
            "a7f5227cda5940449f67862cb77c1c38",
            "3e549278cc524425bdfeb5a4b93cc5b3",
            "b5ab6f28a986417396a8faccd6be3ab6",
            "ff400b7b7a5344b9a64b33388fbf5998"
          ]
        },
        "outputId": "89275aed-3668-4041-b276-016cec150440"
      },
      "execution_count": 7,
      "outputs": [
        {
          "output_type": "display_data",
          "data": {
            "text/plain": [
              "tokenizer_config.json:   0%|          | 0.00/54.5k [00:00<?, ?B/s]"
            ],
            "application/vnd.jupyter.widget-view+json": {
              "version_major": 2,
              "version_minor": 0,
              "model_id": "d70bf1af23b142799c6a7b20b0f57f91"
            }
          },
          "metadata": {}
        },
        {
          "output_type": "display_data",
          "data": {
            "text/plain": [
              "tokenizer.json:   0%|          | 0.00/9.09M [00:00<?, ?B/s]"
            ],
            "application/vnd.jupyter.widget-view+json": {
              "version_major": 2,
              "version_minor": 0,
              "model_id": "d12295740a484155a20426dcb860ff8f"
            }
          },
          "metadata": {}
        },
        {
          "output_type": "display_data",
          "data": {
            "text/plain": [
              "special_tokens_map.json:   0%|          | 0.00/296 [00:00<?, ?B/s]"
            ],
            "application/vnd.jupyter.widget-view+json": {
              "version_major": 2,
              "version_minor": 0,
              "model_id": "1bf383a273684830b9584103c8154479"
            }
          },
          "metadata": {}
        }
      ]
    },
    {
      "cell_type": "code",
      "source": [
        "\n",
        "messages = [\n",
        "    {\"role\": \"system\", \"content\": \"You are a helpful assistant\"},\n",
        "    {\"role\": \"user\", \"content\": \"Tell a light-hearted joke for a room of Data Scientists\"}\n",
        "  ]\n",
        "\n",
        "prompt = tokenizer.apply_chat_template(messages, tokenize=False, add_generation_prompt=True)\n",
        "print(prompt)"
      ],
      "metadata": {
        "id": "uKJjVJ9T_GFn",
        "colab": {
          "base_uri": "https://localhost:8080/"
        },
        "outputId": "780bb723-f223-41a2-fd6e-eea45ee5c1f7"
      },
      "execution_count": 8,
      "outputs": [
        {
          "output_type": "stream",
          "name": "stdout",
          "text": [
            "<|begin_of_text|><|start_header_id|>system<|end_header_id|>\n",
            "\n",
            "Cutting Knowledge Date: December 2023\n",
            "Today Date: 14 Mar 2025\n",
            "\n",
            "You are a helpful assistant<|eot_id|><|start_header_id|>user<|end_header_id|>\n",
            "\n",
            "Tell a light-hearted joke for a room of Data Scientists<|eot_id|><|start_header_id|>assistant<|end_header_id|>\n",
            "\n",
            "\n"
          ]
        }
      ]
    },
    {
      "cell_type": "markdown",
      "source": [
        "# Trying new models\n",
        "\n",
        "We will now work with 3 models:\n",
        "\n",
        "Phi3 from Microsoft\n",
        "Qwen2 from Alibaba Cloud\n",
        "Starcoder2 from BigCode (ServiceNow + HuggingFace + NVidia)"
      ],
      "metadata": {
        "id": "wlmNvvb-AIKt"
      }
    },
    {
      "cell_type": "code",
      "source": [
        "PHI3_MODEL_NAME = \"microsoft/Phi-3-mini-4k-instruct\"\n",
        "QWEN2_MODEL_NAME = \"Qwen/Qwen2-7B-Instruct\"\n",
        "STARCODER2_MODEL_NAME = \"bigcode/starcoder2-3b\""
      ],
      "metadata": {
        "id": "FWUMdt_iAZQZ"
      },
      "execution_count": null,
      "outputs": []
    },
    {
      "cell_type": "code",
      "source": [
        "phi3_tokenizer = AutoTokenizer.from_pretrained(PHI3_MODEL_NAME)\n",
        "\n",
        "text = \"I am excited to show Tokenizers in action to my LLM engineers\"\n",
        "print(tokenizer.encode(text))\n",
        "print()\n",
        "tokens = phi3_tokenizer.encode(text)\n",
        "print(phi3_tokenizer.batch_decode(tokens))\n"
      ],
      "metadata": {
        "id": "WM9tU_ZnAbkR"
      },
      "execution_count": null,
      "outputs": []
    },
    {
      "cell_type": "code",
      "source": [
        "print(tokenizer.apply_chat_template(messages, tokenize=False, add_generation_prompt=True))\n",
        "print()\n",
        "print(phi3_tokenizer.apply_chat_template(messages, tokenize=False, add_generation_prompt=True))"
      ],
      "metadata": {
        "id": "4CrdGSBZAxx9"
      },
      "execution_count": null,
      "outputs": []
    },
    {
      "cell_type": "code",
      "source": [
        "qwen2_tokenizer = AutoTokenizer.from_pretrained(QWEN2_MODEL_NAME)\n",
        "\n",
        "text = \"I am excited to show Tokenizers in action to my LLM engineers\"\n",
        "print(tokenizer.encode(text))\n",
        "print()\n",
        "print(phi3_tokenizer.encode(text))\n",
        "print()\n",
        "print(qwen2_tokenizer.encode(text))"
      ],
      "metadata": {
        "id": "yr16p4HSA2A4"
      },
      "execution_count": null,
      "outputs": []
    },
    {
      "cell_type": "code",
      "source": [
        "print(tokenizer.apply_chat_template(messages, tokenize=False, add_generation_prompt=True))\n",
        "print()\n",
        "print(phi3_tokenizer.apply_chat_template(messages, tokenize=False, add_generation_prompt=True))\n",
        "print()\n",
        "print(qwen2_tokenizer.apply_chat_template(messages, tokenize=False, add_generation_prompt=True))"
      ],
      "metadata": {
        "id": "sQ5wFS1oBdEN"
      },
      "execution_count": null,
      "outputs": []
    },
    {
      "cell_type": "code",
      "source": [
        "starcoder2_tokenizer = AutoTokenizer.from_pretrained(STARCODER2_MODEL_NAME, trust_remote_code=True)\n",
        "code = \"\"\"\n",
        "def hello_world(person):\n",
        "  print(\"Hello\", person)\n",
        "\"\"\"\n",
        "tokens = starcoder2_tokenizer.encode(code)\n",
        "for token in tokens:\n",
        "  print(f\"{token}={starcoder2_tokenizer.decode(token)}\")"
      ],
      "metadata": {
        "id": "_GGe6hzSBkBg"
      },
      "execution_count": null,
      "outputs": []
    },
    {
      "cell_type": "code",
      "source": [],
      "metadata": {
        "id": "O4SQfcrcOAFF"
      },
      "execution_count": null,
      "outputs": []
    },
    {
      "cell_type": "markdown",
      "source": [],
      "metadata": {
        "id": "dmmDkEjG9Rkz"
      }
    }
  ]
}